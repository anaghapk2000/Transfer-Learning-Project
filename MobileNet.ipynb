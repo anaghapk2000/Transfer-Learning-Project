{
  "nbformat": 4,
  "nbformat_minor": 0,
  "metadata": {
    "colab": {
      "provenance": [],
      "gpuType": "T4",
      "mount_file_id": "10zPG1pdqZQ50YCDhm86uW7OFz5s1w95I",
      "authorship_tag": "ABX9TyPd7HW218Vyyk532j6aAK2A",
      "include_colab_link": true
    },
    "kernelspec": {
      "name": "python3",
      "display_name": "Python 3"
    },
    "language_info": {
      "name": "python"
    },
    "accelerator": "GPU"
  },
  "cells": [
    {
      "cell_type": "markdown",
      "metadata": {
        "id": "view-in-github",
        "colab_type": "text"
      },
      "source": [
        "<a href=\"https://colab.research.google.com/github/arjunkpreman/Transfer-Learning-Project/blob/main/MobileNet.ipynb\" target=\"_parent\"><img src=\"https://colab.research.google.com/assets/colab-badge.svg\" alt=\"Open In Colab\"/></a>"
      ]
    },
    {
      "cell_type": "code",
      "source": [
        "import tensorflow as tf\n",
        "from tensorflow.keras.applications import MobileNet\n",
        "from tensorflow.keras.layers import Dense, GlobalAveragePooling2D\n",
        "from tensorflow.keras.models import Model\n",
        "from tensorflow.keras.optimizers import Adam\n",
        "from tensorflow.keras.preprocessing.image import ImageDataGenerator"
      ],
      "metadata": {
        "id": "dphp0rnasFeR"
      },
      "execution_count": 1,
      "outputs": []
    },
    {
      "cell_type": "code",
      "source": [
        "from google.colab import drive\n",
        "drive.mount('/content/drive')"
      ],
      "metadata": {
        "colab": {
          "base_uri": "https://localhost:8080/"
        },
        "id": "xIn3i9NtsXol",
        "outputId": "f2bc838f-a89d-4491-da6b-f88143076e34"
      },
      "execution_count": 2,
      "outputs": [
        {
          "output_type": "stream",
          "name": "stdout",
          "text": [
            "Drive already mounted at /content/drive; to attempt to forcibly remount, call drive.mount(\"/content/drive\", force_remount=True).\n"
          ]
        }
      ]
    },
    {
      "cell_type": "code",
      "source": [
        "# Load pre-trained MobileNet model\n",
        "base_model = MobileNet(weights='imagenet', include_top=False, input_shape=(224, 224, 3))"
      ],
      "metadata": {
        "colab": {
          "base_uri": "https://localhost:8080/"
        },
        "id": "UOlrHeWUswnc",
        "outputId": "8b30d188-5a2b-4b91-9518-8c31105c0bf2"
      },
      "execution_count": 3,
      "outputs": [
        {
          "output_type": "stream",
          "name": "stdout",
          "text": [
            "Downloading data from https://storage.googleapis.com/tensorflow/keras-applications/mobilenet/mobilenet_1_0_224_tf_no_top.h5\n",
            "17225924/17225924 [==============================] - 0s 0us/step\n"
          ]
        }
      ]
    },
    {
      "cell_type": "code",
      "source": [
        "# Freeze the pre-trained layers\n",
        "for layer in base_model.layers:\n",
        "    layer.trainable = False\n"
      ],
      "metadata": {
        "id": "5p5vJGejs01M"
      },
      "execution_count": 4,
      "outputs": []
    },
    {
      "cell_type": "code",
      "source": [
        "# Add new classification layers\n",
        "x = base_model.output\n",
        "x = GlobalAveragePooling2D()(x)\n",
        "x = Dense(256, activation='relu')(x)\n",
        "predictions = Dense(10, activation='softmax')(x)  # num_classes is the number of classes in your task"
      ],
      "metadata": {
        "id": "KUdJ67yes6b6"
      },
      "execution_count": 5,
      "outputs": []
    },
    {
      "cell_type": "code",
      "source": [
        "\n",
        "# Create the transfer learning model\n",
        "model = Model(inputs=base_model.input, outputs=predictions)"
      ],
      "metadata": {
        "id": "miBkachEtJ9B"
      },
      "execution_count": 6,
      "outputs": []
    },
    {
      "cell_type": "code",
      "source": [
        "\n",
        "# Compile the model\n",
        "model.compile(optimizer=Adam(learning_rate=0.001), loss='categorical_crossentropy', metrics=['accuracy'])"
      ],
      "metadata": {
        "id": "E0HyCSVqtM49"
      },
      "execution_count": 7,
      "outputs": []
    },
    {
      "cell_type": "code",
      "source": [
        "# Set up data generators for training and validation\n",
        "train_datagen = ImageDataGenerator(preprocessing_function=tf.keras.applications.mobilenet.preprocess_input)\n",
        "train_generator = train_datagen.flow_from_directory(\n",
        "    '/content/drive/MyDrive/Dataset/train',\n",
        "    target_size=(224, 224),\n",
        "    batch_size=32,\n",
        "    class_mode='categorical'\n",
        ")"
      ],
      "metadata": {
        "colab": {
          "base_uri": "https://localhost:8080/"
        },
        "id": "DH9i4pJbtaIb",
        "outputId": "a0e8731e-26d3-4232-d210-bf070e0cceaf"
      },
      "execution_count": 8,
      "outputs": [
        {
          "output_type": "stream",
          "name": "stdout",
          "text": [
            "Found 3015 images belonging to 10 classes.\n"
          ]
        }
      ]
    },
    {
      "cell_type": "code",
      "source": [
        "val_datagen = ImageDataGenerator(preprocessing_function=tf.keras.applications.mobilenet.preprocess_input)\n",
        "val_generator = val_datagen.flow_from_directory(\n",
        "    '/content/drive/MyDrive/Dataset/test',\n",
        "    target_size=(224, 224),\n",
        "    batch_size=32,\n",
        "    class_mode='categorical',\n",
        "    shuffle=False\n",
        ")"
      ],
      "metadata": {
        "colab": {
          "base_uri": "https://localhost:8080/"
        },
        "id": "cUpNxLYltmsC",
        "outputId": "fa74ac68-c208-49c5-df3b-be0c82f578d2"
      },
      "execution_count": 9,
      "outputs": [
        {
          "output_type": "stream",
          "name": "stdout",
          "text": [
            "Found 921 images belonging to 10 classes.\n"
          ]
        }
      ]
    },
    {
      "cell_type": "code",
      "source": [
        "# Train the model\n",
        "r=model.fit(\n",
        "    train_generator,\n",
        "    steps_per_epoch=train_generator.samples // 32,\n",
        "    validation_data=val_generator,\n",
        "    validation_steps=val_generator.samples // 32,\n",
        "    epochs=10\n",
        ")"
      ],
      "metadata": {
        "colab": {
          "base_uri": "https://localhost:8080/"
        },
        "id": "R2QyhDd-t1TW",
        "outputId": "31ae3d10-b677-459e-bb4e-badfa7767731"
      },
      "execution_count": 10,
      "outputs": [
        {
          "output_type": "stream",
          "name": "stdout",
          "text": [
            "Epoch 1/10\n",
            "94/94 [==============================] - 796s 8s/step - loss: 0.8510 - accuracy: 0.7197 - val_loss: 0.4059 - val_accuracy: 0.8739\n",
            "Epoch 2/10\n",
            "94/94 [==============================] - 15s 161ms/step - loss: 0.2520 - accuracy: 0.9239 - val_loss: 0.3395 - val_accuracy: 0.8828\n",
            "Epoch 3/10\n",
            "94/94 [==============================] - 17s 179ms/step - loss: 0.1517 - accuracy: 0.9588 - val_loss: 0.2710 - val_accuracy: 0.9062\n",
            "Epoch 4/10\n",
            "94/94 [==============================] - 15s 161ms/step - loss: 0.0870 - accuracy: 0.9816 - val_loss: 0.2468 - val_accuracy: 0.9174\n",
            "Epoch 5/10\n",
            "94/94 [==============================] - 15s 160ms/step - loss: 0.0603 - accuracy: 0.9866 - val_loss: 0.3203 - val_accuracy: 0.8917\n",
            "Epoch 6/10\n",
            "94/94 [==============================] - 17s 178ms/step - loss: 0.0521 - accuracy: 0.9903 - val_loss: 0.2257 - val_accuracy: 0.9353\n",
            "Epoch 7/10\n",
            "94/94 [==============================] - 15s 160ms/step - loss: 0.0198 - accuracy: 0.9993 - val_loss: 0.2275 - val_accuracy: 0.9252\n",
            "Epoch 8/10\n",
            "94/94 [==============================] - 17s 182ms/step - loss: 0.0123 - accuracy: 1.0000 - val_loss: 0.2226 - val_accuracy: 0.9330\n",
            "Epoch 9/10\n",
            "94/94 [==============================] - 17s 177ms/step - loss: 0.0095 - accuracy: 1.0000 - val_loss: 0.2082 - val_accuracy: 0.9353\n",
            "Epoch 10/10\n",
            "94/94 [==============================] - 15s 161ms/step - loss: 0.0078 - accuracy: 1.0000 - val_loss: 0.2030 - val_accuracy: 0.9375\n"
          ]
        }
      ]
    },
    {
      "cell_type": "code",
      "source": [
        "import matplotlib.pyplot as plt"
      ],
      "metadata": {
        "id": "A0LKpkmIVxtX"
      },
      "execution_count": 12,
      "outputs": []
    },
    {
      "cell_type": "code",
      "source": [
        "# plot the loss\n",
        "plt.plot(r.history['loss'], label='train loss')\n",
        "plt.plot(r.history['val_loss'], label='val loss')\n",
        "plt.legend()\n",
        "plt.show()\n",
        "plt.savefig('LossVal_loss')\n",
        "\n",
        "# plot the accuracy\n",
        "plt.plot(r.history['accuracy'], label='train acc')\n",
        "plt.plot(r.history['val_accuracy'], label='val acc')\n",
        "plt.legend()\n",
        "plt.show()\n",
        "plt.savefig('AccVal_acc')"
      ],
      "metadata": {
        "colab": {
          "base_uri": "https://localhost:8080/",
          "height": 860
        },
        "id": "tSM-J3ZWVN0W",
        "outputId": "43f915d2-2bb5-4bb2-ccf5-ea7d51972719"
      },
      "execution_count": 13,
      "outputs": [
        {
          "output_type": "display_data",
          "data": {
            "text/plain": [
              "<Figure size 640x480 with 1 Axes>"
            ],
            "image/png": "[encoded data removed]"
          },
          "metadata": {}
        },
        {
          "output_type": "display_data",
          "data": {
            "text/plain": [
              "<Figure size 640x480 with 1 Axes>"
            ],
            "image/png": "[encoded data removed]"
          },
          "metadata": {}
        },
        {
          "output_type": "display_data",
          "data": {
            "text/plain": [
              "<Figure size 640x480 with 0 Axes>"
            ]
          },
          "metadata": {}
        }
      ]
    },
    {
      "cell_type": "code",
      "source": [
        "# Save the trained model\n",
        "model.save('/content/drive/MyDrive/Dataset/Model_MobileNet.h5')"
      ],
      "metadata": {
        "id": "5ABKgHlS00xp"
      },
      "execution_count": 14,
      "outputs": []
    },
    {
      "cell_type": "code",
      "source": [
        "\n",
        "model.evaluate(val_generator)"
      ],
      "metadata": {
        "colab": {
          "base_uri": "https://localhost:8080/"
        },
        "id": "Q4qqajh9frnS",
        "outputId": "57b41151-cb9a-4f2e-d13c-5ed8a7e65e67"
      },
      "execution_count": 15,
      "outputs": [
        {
          "output_type": "stream",
          "name": "stdout",
          "text": [
            "29/29 [==============================] - 4s 128ms/step - loss: 0.1979 - accuracy: 0.9392\n"
          ]
        },
        {
          "output_type": "execute_result",
          "data": {
            "text/plain": [
              "[0.19786259531974792, 0.9391965270042419]"
            ]
          },
          "metadata": {},
          "execution_count": 15
        }
      ]
    }
  ]
}