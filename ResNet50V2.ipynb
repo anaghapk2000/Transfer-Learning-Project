{
  "nbformat": 4,
  "nbformat_minor": 0,
  "metadata": {
    "colab": {
      "provenance": [],
      "gpuType": "T4",
      "mount_file_id": "1zgb_n1FuS7a6W4y6F-UWa2-O15a_ioi_",
      "authorship_tag": "ABX9TyPR0cZUpoDzob6u8nr3XKMN",
      "include_colab_link": true
    },
    "kernelspec": {
      "name": "python3",
      "display_name": "Python 3"
    },
    "language_info": {
      "name": "python"
    },
    "accelerator": "GPU"
  },
  "cells": [
    {
      "cell_type": "markdown",
      "metadata": {
        "id": "view-in-github",
        "colab_type": "text"
      },
      "source": [
        "<a href=\"https://colab.research.google.com/github/arjunkpreman/Transfer-Learning-Project/blob/main/ResNet50V2.ipynb\" target=\"_parent\"><img src=\"https://colab.research.google.com/assets/colab-badge.svg\" alt=\"Open In Colab\"/></a>"
      ]
    },
    {
      "cell_type": "code",
      "source": [
        "import tensorflow as tf\n",
        "from tensorflow.keras.applications import ResNet50V2\n",
        "from tensorflow.keras.layers import Dense, GlobalAveragePooling2D\n",
        "from tensorflow.keras.models import Model\n",
        "from tensorflow.keras.optimizers import Adam\n",
        "from tensorflow.keras.preprocessing.image import ImageDataGenerator"
      ],
      "metadata": {
        "id": "dphp0rnasFeR"
      },
      "execution_count": 1,
      "outputs": []
    },
    {
      "cell_type": "code",
      "source": [
        "from google.colab import drive\n",
        "drive.mount('/content/drive')"
      ],
      "metadata": {
        "colab": {
          "base_uri": "https://localhost:8080/"
        },
        "id": "xIn3i9NtsXol",
        "outputId": "09000fe4-9b4c-4a3a-9ebd-99105d4e85a9"
      },
      "execution_count": 2,
      "outputs": [
        {
          "output_type": "stream",
          "name": "stdout",
          "text": [
            "Mounted at /content/drive\n"
          ]
        }
      ]
    },
    {
      "cell_type": "code",
      "source": [
        "# Load pre-trained ResNet50V2 model\n",
        "base_model = ResNet50V2(weights='imagenet', include_top=False, input_shape=(224, 224, 3))"
      ],
      "metadata": {
        "id": "UOlrHeWUswnc",
        "colab": {
          "base_uri": "https://localhost:8080/"
        },
        "outputId": "f0912e33-1ac1-43b3-dd60-0c4fa7e41675"
      },
      "execution_count": 3,
      "outputs": [
        {
          "output_type": "stream",
          "name": "stdout",
          "text": [
            "Downloading data from https://storage.googleapis.com/tensorflow/keras-applications/resnet/resnet50v2_weights_tf_dim_ordering_tf_kernels_notop.h5\n",
            "94668760/94668760 [==============================] - 3s 0us/step\n"
          ]
        }
      ]
    },
    {
      "cell_type": "code",
      "source": [
        "# Freeze the pre-trained layers\n",
        "for layer in base_model.layers:\n",
        "    layer.trainable = False\n"
      ],
      "metadata": {
        "id": "5p5vJGejs01M"
      },
      "execution_count": 4,
      "outputs": []
    },
    {
      "cell_type": "code",
      "source": [
        "# Add new classification layers\n",
        "x = base_model.output\n",
        "x = GlobalAveragePooling2D()(x)\n",
        "x = Dense(256, activation='relu')(x)\n",
        "predictions = Dense(10, activation='softmax')(x)  # num_classes is the number of classes in your task"
      ],
      "metadata": {
        "id": "KUdJ67yes6b6"
      },
      "execution_count": 5,
      "outputs": []
    },
    {
      "cell_type": "code",
      "source": [
        "\n",
        "# Create the transfer learning model\n",
        "model = Model(inputs=base_model.input, outputs=predictions)"
      ],
      "metadata": {
        "id": "miBkachEtJ9B"
      },
      "execution_count": 6,
      "outputs": []
    },
    {
      "cell_type": "code",
      "source": [
        "\n",
        "# Compile the model\n",
        "model.compile(optimizer=Adam(learning_rate=0.001), loss='categorical_crossentropy', metrics=['accuracy'])"
      ],
      "metadata": {
        "id": "E0HyCSVqtM49"
      },
      "execution_count": 7,
      "outputs": []
    },
    {
      "cell_type": "code",
      "source": [
        "# Set up data generators for training and validation\n",
        "train_datagen = ImageDataGenerator(preprocessing_function=tf.keras.applications.resnet_v2.preprocess_input)\n",
        "train_generator = train_datagen.flow_from_directory(\n",
        "    '/content/drive/MyDrive/Dataset/train',\n",
        "    target_size=(224, 224),\n",
        "    batch_size=32,\n",
        "    class_mode='categorical'\n",
        ")"
      ],
      "metadata": {
        "colab": {
          "base_uri": "https://localhost:8080/"
        },
        "id": "DH9i4pJbtaIb",
        "outputId": "5ebd8b51-c543-4ac3-cba6-ad1921c54a29"
      },
      "execution_count": 8,
      "outputs": [
        {
          "output_type": "stream",
          "name": "stdout",
          "text": [
            "Found 3015 images belonging to 10 classes.\n"
          ]
        }
      ]
    },
    {
      "cell_type": "code",
      "source": [
        "val_datagen = ImageDataGenerator(preprocessing_function=tf.keras.applications.resnet_v2.preprocess_input)\n",
        "val_generator = val_datagen.flow_from_directory(\n",
        "    '/content/drive/MyDrive/Dataset/test',\n",
        "    target_size=(224, 224),\n",
        "    batch_size=32,\n",
        "    class_mode='categorical',\n",
        "    shuffle=False\n",
        ")"
      ],
      "metadata": {
        "colab": {
          "base_uri": "https://localhost:8080/"
        },
        "id": "cUpNxLYltmsC",
        "outputId": "934fe48d-3b4d-4eb6-e88a-282d34e57e01"
      },
      "execution_count": 9,
      "outputs": [
        {
          "output_type": "stream",
          "name": "stdout",
          "text": [
            "Found 921 images belonging to 10 classes.\n"
          ]
        }
      ]
    },
    {
      "cell_type": "code",
      "source": [
        "# Train the model\n",
        "r=model.fit_generator(\n",
        "    train_generator,\n",
        "    steps_per_epoch=train_generator.samples // 32,\n",
        "    validation_data=val_generator,\n",
        "    validation_steps=val_generator.samples // 32,\n",
        "    epochs=10\n",
        ")"
      ],
      "metadata": {
        "colab": {
          "base_uri": "https://localhost:8080/"
        },
        "id": "R2QyhDd-t1TW",
        "outputId": "86ed9c76-ef32-41c5-8b1f-586e9f250508"
      },
      "execution_count": 10,
      "outputs": [
        {
          "output_type": "stream",
          "name": "stderr",
          "text": [
            "<ipython-input-10-07f1f0826cdd>:2: UserWarning: `Model.fit_generator` is deprecated and will be removed in a future version. Please use `Model.fit`, which supports generators.\n",
            "  r=model.fit_generator(\n"
          ]
        },
        {
          "output_type": "stream",
          "name": "stdout",
          "text": [
            "Epoch 1/10\n",
            "94/94 [==============================] - 1650s 17s/step - loss: 0.8814 - accuracy: 0.7087 - val_loss: 0.4829 - val_accuracy: 0.8393\n",
            "Epoch 2/10\n",
            "94/94 [==============================] - 18s 186ms/step - loss: 0.2757 - accuracy: 0.9165 - val_loss: 0.3746 - val_accuracy: 0.8806\n",
            "Epoch 3/10\n",
            "94/94 [==============================] - 17s 184ms/step - loss: 0.1559 - accuracy: 0.9591 - val_loss: 0.3754 - val_accuracy: 0.8783\n",
            "Epoch 4/10\n",
            "94/94 [==============================] - 17s 183ms/step - loss: 0.0873 - accuracy: 0.9802 - val_loss: 0.4255 - val_accuracy: 0.8627\n",
            "Epoch 5/10\n",
            "94/94 [==============================] - 19s 200ms/step - loss: 0.0606 - accuracy: 0.9906 - val_loss: 0.3431 - val_accuracy: 0.8906\n",
            "Epoch 6/10\n",
            "94/94 [==============================] - 17s 181ms/step - loss: 0.0292 - accuracy: 0.9973 - val_loss: 0.3049 - val_accuracy: 0.8996\n",
            "Epoch 7/10\n",
            "94/94 [==============================] - 18s 196ms/step - loss: 0.0185 - accuracy: 1.0000 - val_loss: 0.3272 - val_accuracy: 0.9007\n",
            "Epoch 8/10\n",
            "94/94 [==============================] - 19s 200ms/step - loss: 0.0136 - accuracy: 1.0000 - val_loss: 0.3218 - val_accuracy: 0.8973\n",
            "Epoch 9/10\n",
            "94/94 [==============================] - 18s 190ms/step - loss: 0.0088 - accuracy: 1.0000 - val_loss: 0.3141 - val_accuracy: 0.9007\n",
            "Epoch 10/10\n",
            "94/94 [==============================] - 17s 180ms/step - loss: 0.0068 - accuracy: 1.0000 - val_loss: 0.2968 - val_accuracy: 0.9163\n"
          ]
        }
      ]
    },
    {
      "cell_type": "code",
      "source": [
        "import matplotlib.pyplot as plt"
      ],
      "metadata": {
        "id": "fuEGBbDLXcFR"
      },
      "execution_count": 13,
      "outputs": []
    },
    {
      "cell_type": "code",
      "source": [
        "# plot the loss\n",
        "plt.plot(r.history['loss'], label='train loss')\n",
        "plt.plot(r.history['val_loss'], label='val loss')\n",
        "plt.legend()\n",
        "plt.show()\n",
        "plt.savefig('LossVal_loss')\n",
        "\n",
        "# plot the accuracy\n",
        "plt.plot(r.history['accuracy'], label='train acc')\n",
        "plt.plot(r.history['val_accuracy'], label='val acc')\n",
        "plt.legend()\n",
        "plt.show()\n",
        "plt.savefig('AccVal_acc')"
      ],
      "metadata": {
        "colab": {
          "base_uri": "https://localhost:8080/",
          "height": 860
        },
        "id": "qjKo-lgcPpvy",
        "outputId": "02ba3179-cb92-4dc3-8296-c3556237a9af"
      },
      "execution_count": 14,
      "outputs": [
        {
          "output_type": "display_data",
          "data": {
            "text/plain": [
              "<Figure size 640x480 with 1 Axes>"
            ],
            "image/png": "[encoded data removed]"
          },
          "metadata": {}
        },
        {
          "output_type": "display_data",
          "data": {
            "text/plain": [
              "<Figure size 640x480 with 1 Axes>"
            ],
            "image/png": "[encoded data removed]"
          },
          "metadata": {}
        },
        {
          "output_type": "display_data",
          "data": {
            "text/plain": [
              "<Figure size 640x480 with 0 Axes>"
            ]
          },
          "metadata": {}
        }
      ]
    },
    {
      "cell_type": "code",
      "source": [
        "# Save the trained model\n",
        "model.save('/content/drive/MyDrive/Dataset/ResNet50V2.h5')"
      ],
      "metadata": {
        "id": "5ABKgHlS00xp"
      },
      "execution_count": 15,
      "outputs": []
    },
    {
      "cell_type": "code",
      "source": [
        "\n",
        "model.evaluate(val_generator)"
      ],
      "metadata": {
        "colab": {
          "base_uri": "https://localhost:8080/"
        },
        "id": "Q4qqajh9frnS",
        "outputId": "2125a64d-7914-4057-a1b4-aba4461d3bd0"
      },
      "execution_count": 16,
      "outputs": [
        {
          "output_type": "stream",
          "name": "stdout",
          "text": [
            "29/29 [==============================] - 5s 178ms/step - loss: 0.2913 - accuracy: 0.9175\n"
          ]
        },
        {
          "output_type": "execute_result",
          "data": {
            "text/plain": [
              "[0.29125159978866577, 0.917481005191803]"
            ]
          },
          "metadata": {},
          "execution_count": 16
        }
      ]
    }
  ]
}